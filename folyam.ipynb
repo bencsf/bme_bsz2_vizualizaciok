{
 "cells": [
  {
   "cell_type": "code",
   "execution_count": 1,
   "metadata": {},
   "outputs": [],
   "source": [
    "import numpy as np\n",
    "import networkx as nx\n",
    "import matplotlib.pyplot as plt\n",
    "# from sage.graphs.graph_plot import GraphPlot\n",
    "# from shapely.geometry import LineString\n",
    "from copy import deepcopy\n",
    "#from networkx.drawing.nx_pydot import graphviz_layout\n",
    "from networkx.drawing.nx_agraph import graphviz_layout\n",
    "from ipywidgets import HBox,VBox\n",
    "from ipywidgets.widgets import IntSlider,Textarea,Label,interactive,Button, Dropdown\n",
    "from matplotlib.ticker import AutoMinorLocator\n",
    "from networkx.drawing.nx_agraph import graphviz_layout\n",
    "from IPython.display import HTML\n",
    "\n",
    "from matplotlib.patches import ConnectionStyle\n",
    "\n",
    "from shutil import rmtree\n",
    "import os\n",
    "from IPython.display import display, FileLink"
   ]
  },
  {
   "cell_type": "code",
   "execution_count": 2,
   "metadata": {},
   "outputs": [
    {
     "data": {
      "text/html": [
       "<script>\n",
       "code_show=true; \n",
       "function code_toggle() {\n",
       " if (code_show){\n",
       " $('div.input').hide();\n",
       " } else {\n",
       " $('div.input').show();\n",
       " }\n",
       " code_show = !code_show\n",
       "} \n",
       "$( document ).ready(code_toggle);\n",
       "</script>\n",
       "The raw code for this IPython notebook is by default hidden for easier reading.\n",
       "To toggle on/off the raw code, click <a href=\"javascript:code_toggle()\">here</a>."
      ],
      "text/plain": [
       "<IPython.core.display.HTML object>"
      ]
     },
     "execution_count": 2,
     "metadata": {},
     "output_type": "execute_result"
    }
   ],
   "source": [
    "HTML('''<script>\n",
    "code_show=true; \n",
    "function code_toggle() {\n",
    " if (code_show){\n",
    " $('div.input').hide();\n",
    " } else {\n",
    " $('div.input').show();\n",
    " }\n",
    " code_show = !code_show\n",
    "} \n",
    "$( document ).ready(code_toggle);\n",
    "</script>\n",
    "The raw code for this IPython notebook is by default hidden for easier reading.\n",
    "To toggle on/off the raw code, click <a href=\"javascript:code_toggle()\">here</a>.''')"
   ]
  },
  {
   "cell_type": "code",
   "execution_count": 3,
   "metadata": {},
   "outputs": [],
   "source": [
    "algoritmus=[u'Az aktualis folyam. Keszitsuk el a segedgrafot!',\n",
    "           u'Van-e iranyitott ut a segedgrafban S-bol T-be?',\n",
    "           u'\\t Van javito ut! Javitsunk es Vissza az elejere',\n",
    "           u'\\t Nincs javito ut. Az S-bol elerheto pontok kiszamitasa!',\n",
    "           u'Vagas ertekenek meghatarozasa!']"
   ]
  },
  {
   "cell_type": "code",
   "execution_count": 4,
   "metadata": {},
   "outputs": [],
   "source": [
    "def plot_all(index):\n",
    "    return True"
   ]
  },
  {
   "cell_type": "markdown",
   "metadata": {},
   "source": [
    "graph_select=Dropdown(\n",
    "    options=[('ZH_2018/5',0)('Szabad',1)],\n",
    "    value=0,\n",
    "    description='Gráfválasztás:',\n",
    "    layout={'width': 'max-content'},\n",
    "    style={'description_width': 'initial'}\n",
    ")\n",
    "\n",
    "pelda_grafok={0:'S:A5,B2,C6,E9\\n'\n",
    "              1:''}\n",
    "def trig(b):\n",
    "    input_graph.value=pelda_grafok[graph_select.value]\n",
    "graph_select.observe(trig ,names='value')\n",
    "graph_select"
   ]
  },
  {
   "cell_type": "code",
   "execution_count": 5,
   "metadata": {},
   "outputs": [],
   "source": [
    "# d_inc={'S':{'A':{'cap':5},'B':{'cap':2},'C':{'cap':6},'E':{'cap':9}},\n",
    "#        'A':{'B':{'cap':5},'T':{'cap':4}},\n",
    "#        'B':{'T':{'cap':10},'E':{'cap':2}},\n",
    "#        'C':{'B':{'cap':3},'D':{'cap':3}},\n",
    "#        'D':{'T':{'cap':5}},\n",
    "#        'E':{'D':{'cap':6},'T':{'cap':2}}}\n",
    "# G=nx.DiGraph(d_inc)\n",
    "# print(G.nodes())\n",
    "# G.get_edge_data('S','A')\n",
    "# forras='S'\n",
    "# nyelo='T'\n",
    "# pos_G=nx.spring_layout(G)"
   ]
  },
  {
   "cell_type": "code",
   "execution_count": 6,
   "metadata": {},
   "outputs": [],
   "source": [
    "def folyam_ertek(f):\n",
    "    return sum([f[(forras,u)] for u in G.neighbors(forras)])\n",
    "def vagas_ertek(X):\n",
    "    return sum([G.get_edge_data(*e)['cap'] for e in G.edges if (e[0] in X) and (e[1] not in X)])"
   ]
  },
  {
   "cell_type": "code",
   "execution_count": 7,
   "metadata": {},
   "outputs": [
    {
     "data": {
      "application/vnd.jupyter.widget-view+json": {
       "model_id": "b93730ceb7804284aa9cda5921590e42",
       "version_major": 2,
       "version_minor": 0
      },
      "text/plain": [
       "Dropdown(description='Gráfválasztás:', layout=Layout(width='max-content'), options=(('Jegyzet 2.14', 0), ('Gy9…"
      ]
     },
     "metadata": {},
     "output_type": "display_data"
    }
   ],
   "source": [
    "graph_select=Dropdown(\n",
    "    options=[('Jegyzet 2.14', 0), ('Gy9/2',1),('Gy9/4',2),('ures',3)],\n",
    "    value=0,\n",
    "    description='Gráfválasztás:',\n",
    "    layout={'width': 'max-content'},\n",
    "    style={'description_width': 'initial'}\n",
    ")\n",
    "pelda_grafok={0:['S:A5,B2,C6,E9\\nA:B5,T4\\nB:T10,E2\\nC:B3,D3\\nD:T5\\nE:D6,T2',{'S':(0,0),'A':(1,6),'B':(3,5),'C':(2,1.5),'D':(4,1.5),'E':(6,0),'T':(5,6)}],\n",
    "              1:['S:A7,D2\\nA:B2,F5\\nB:C5,F2\\nC:T6\\nD:A4,E5\\nE:A3,B3,F3\\nF:C1,T3',{'S':(0,1),'A':(1,1),'B':(2,1),'C':(3,1),'D':(0,0),'E':(1,0),'F':(2,0), 'T':(3,0)}],\n",
    "              2:['S:a11,d13,e4\\na:b6,f7\\nb:c9\\nc:T14\\nd:c2,e7\\ne:b4,f5\\nf:T13',{'S':(0,0),'a':(1,1),'b':(2,1),'c':(3,1),'d':(1,-1),'e':(2,-1),'f':(3,-1),'T':(4,0)}],\n",
    "              3:['',{}]\n",
    "             }\n",
    "input_graph_pos={}\n",
    "def trig(b):\n",
    "    global input_graph_pos\n",
    "    input_graph.value=pelda_grafok[graph_select.value][0]\n",
    "    input_graph_pos=pelda_grafok[graph_select.value][1]\n",
    "graph_select.observe(trig ,names='value')\n",
    "forras='S'\n",
    "nyelo='T'\n",
    "\n",
    "graph_select\n"
   ]
  },
  {
   "cell_type": "code",
   "execution_count": 8,
   "metadata": {},
   "outputs": [],
   "source": [
    "label_graph = Label(\"Gráf szomszédsági lista+Sulyok.\\n Példasor:\\n\\tA:B1,C2,D5\")\n",
    "input_graph = Textarea(value=pelda_grafok[graph_select.value][0],layout={'height': '55mm'})\n",
    "input_graph_pos=pelda_grafok[graph_select.value][1]\n",
    "#input_graph = Textarea(value='S:A5,B2,C6,E9\\nA:B5,T4\\nB:T10,E2\\nC:B3,D3\\nD:T5\\nE:D6,T2',layout={'height': '55mm'})\n",
    "\n",
    "label_fonat = Label(\"Javito utak.\\n Példasor: S,A,B,T:1\")\n",
    "input_fonat = Textarea(layout={'height': '55mm'})\n",
    "\n",
    "input_display = HBox([VBox([label_graph,input_graph]),VBox([label_fonat,input_fonat])])\n",
    "\n",
    "def textarea_reader(input_text,mode=\"fonat\"):\n",
    "    if mode==\"fonat\":\n",
    "        if len(input_text)==0:\n",
    "            return {}\n",
    "        edgelist = []\n",
    "        split = input_text.split(\"\\n\")\n",
    "        for line in split:\n",
    "            if len(line.split(':'))<2:\n",
    "                print(\"Figyelj a bemenetre! Üres/hosszú sorok, kettospont?\")\n",
    "                return\n",
    "            else:\n",
    "                a,k = line.split(\":\")\n",
    "                #print(k)\n",
    "                try:\n",
    "                    k=int(k)\n",
    "                    L=a.split(',')\n",
    "                    edgelist+=[(L[i],L[i+1],k) for i in range(len(L)-1)]\n",
    "                except:\n",
    "                    print(\"Egesz szammal novelunk csak\")\n",
    "                    return\n",
    "        sf={(e[0],e[1]):0 for e in edgelist}\n",
    "        for e in edgelist:\n",
    "            sf[(e[0],e[1])]+=e[2]\n",
    "        return sf\n",
    "    if mode==\"graph\":\n",
    "        if len(input_text)<4:\n",
    "            print(\"Üres/rövid bemenet!\")\n",
    "            return\n",
    "        d_inc = {}\n",
    "        split = input_text.split(\"\\n\")\n",
    "        for elem in split:\n",
    "            if \":\" not in elem:\n",
    "                print(\"Túl rövid/üres sor, van kettőspont?\")\n",
    "                return\n",
    "            a,b_dict = elem.split(\":\")\n",
    "            if b_dict==\"\":\n",
    "                b_dict={}\n",
    "                d_inc[a]=b_dict\n",
    "            else:\n",
    "                try:\n",
    "                    #b_list = [int(e) for e in b_list.split(\",\")]\n",
    "                    b_dict = {e[0]:{'cap':int(e[1:])} for e in b_dict.split(\",\")}\n",
    "                    d_inc[a]=b_dict\n",
    "                except:\n",
    "                    print(\"Rossz formátum!\")\n",
    "                    return\n",
    "        return d_inc"
   ]
  },
  {
   "cell_type": "code",
   "execution_count": 9,
   "metadata": {},
   "outputs": [],
   "source": [
    "def init_globals():\n",
    "    \n",
    "    d_inc = textarea_reader(input_graph.value,mode=\"graph\")\n",
    "#    d_inc={'S':{'A':{'cap':5},'B':{'cap':2},'C':{'cap':6},'E':{'cap':9}},\n",
    "#       'A':{'B':{'cap':5},'T':{'cap':4}},\n",
    "#       'B':{'T':{'cap':10},'E':{'cap':2}},\n",
    "#       'C':{'B':{'cap':3},'D':{'cap':3}},\n",
    "#       'D':{'T':{'cap':5}},\n",
    "#       'E':{'D':{'cap':6},'T':{'cap':2}}}\n",
    "    G=nx.DiGraph(d_inc)\n",
    "    \n",
    "    f_akt={e:0 for e in G.edges()}\n",
    "    sf=textarea_reader(input_fonat.value,mode='fonat')\n",
    "    #print(sf)\n",
    "    for e in sf:\n",
    "        f_akt[e]+=sf[e]\n",
    "    return G, f_akt"
   ]
  },
  {
   "cell_type": "code",
   "execution_count": 15,
   "metadata": {
    "scrolled": true
   },
   "outputs": [
    {
     "data": {
      "application/vnd.jupyter.widget-view+json": {
       "model_id": "a183fb2419d54ad29614e0e038755f4b",
       "version_major": 2,
       "version_minor": 0
      },
      "text/plain": [
       "HBox(children=(VBox(children=(Label(value='Gráf szomszédsági lista+Sulyok.\\n Példasor:\\n\\tA:B1,C2,D5'), Textar…"
      ]
     },
     "metadata": {},
     "output_type": "display_data"
    }
   ],
   "source": [
    "input_display"
   ]
  },
  {
   "cell_type": "code",
   "execution_count": 16,
   "metadata": {},
   "outputs": [
    {
     "data": {
      "image/png": "[encoded data removed]",
      "text/plain": [
       "<Figure size 432x288 with 1 Axes>"
      ]
     },
     "metadata": {},
     "output_type": "display_data"
    }
   ],
   "source": [
    "pos_G=input_graph_pos\n",
    "G=init_globals()[0]\n",
    "f_akt=init_globals()[1]\n",
    "\n",
    "fig=plt.figure()\n",
    "nx.draw_networkx_edges(G,pos=pos_G)\n",
    "nx.draw_networkx_labels(G,pos=pos_G)\n",
    "nx.draw_networkx_edge_labels(G,pos=pos_G,edge_labels={e:(f_akt[e],G.get_edge_data(*e)['cap']) for e in G.edges()},label_pos=0.6)\n",
    "nx.draw_networkx_nodes(G,pos=pos_G,node_size=400,node_color=\"red\")\n",
    "plt.show()\n",
    "plt.close()"
   ]
  },
  {
   "cell_type": "code",
   "execution_count": 17,
   "metadata": {
    "scrolled": false
   },
   "outputs": [],
   "source": [
    "#f_akt={e:0 for e in G.edges()}\n",
    "#print(f_akt)\n",
    "#pos_G={'S':(0,0),'A':(1,6),'B':(3,5),'C':(2,1.5),'D':(4,1.5),'E':(6,0),'T':(5,6)}\n",
    "pos_G=input_graph_pos\n",
    "G=init_globals()[0]\n",
    "f_akt=init_globals()[1]\n",
    "b_found_alternating_path=True\n",
    "szamlalo=0\n",
    "d_movie={}\n",
    "\n",
    "while(b_found_alternating_path):\n",
    "    d_seged={}\n",
    "    #Aktualis folyam abrazolasa\n",
    "    d_seged[\"graph\"]=(G,pos_G)\n",
    "    d_seged['folyam_ertek']=folyam_ertek(f_akt)\n",
    "    d_seged['akt_folyam']=deepcopy(f_akt)\n",
    "    d_seged[\"code_index\"]=0\n",
    "    d_movie[szamlalo]=d_seged\n",
    "    szamlalo+=1\n",
    "\n",
    "    #seged graf epitese\n",
    "    d_seged=deepcopy(d_seged)\n",
    "    \n",
    "    d_seged_elek=[]\n",
    "    H=nx.DiGraph()\n",
    "    for e in G.edges:\n",
    "        if G.get_edge_data(*e)['cap']>f_akt[e]:\n",
    "            d_seged_elek.append((*e,{'gap':G.get_edge_data(*e)['cap']-f_akt[e],'color':'blue','elore':1,'original':e}))\n",
    "            \n",
    "        if f_akt[e]>0:\n",
    "            d_seged_elek.append((e[1],e[0],{'gap': f_akt[e], 'color':'red','elore':-1,'original':e}))\n",
    "    H.add_edges_from(d_seged_elek)\n",
    "    \n",
    "    d_seged['segedgraph']=(H,pos_G)\n",
    "    d_seged['code_index']=1\n",
    "    d_movie[szamlalo]=d_seged\n",
    "    szamlalo+=1\n",
    "\n",
    "#     \n",
    "    #BFS az forras csucsbol\n",
    "    d_seged=deepcopy(d_seged)\n",
    "    Q=[forras]\n",
    "    volt={u:False for u in H.nodes()}\n",
    "    honnan={u:'*' for u in H.nodes()}\n",
    "    volt[forras]=True\n",
    "    while(len(Q)>0):\n",
    "        akt=Q.pop(0)\n",
    "        \n",
    "        L_new=[v for v in H.neighbors(akt) if volt[v]==False]\n",
    "        Q+=L_new\n",
    "        for u in L_new:\n",
    "            volt[u]=True\n",
    "            honnan[u]=akt\n",
    "    \n",
    "    b_found_alternating_path=(nyelo in [u for u in volt if volt[u]])\n",
    "    \n",
    "    if(b_found_alternating_path):\n",
    "        #Javito ut meghatarozasa es a javitas merteke\n",
    "        L=[]\n",
    "        akt=nyelo\n",
    "        while(akt!='*'):\n",
    "            L.append(akt)\n",
    "            akt=honnan[akt]\n",
    "        L.reverse()\n",
    "        L_edges=[(L[i],L[i+1]) for i in range(len(L)-1)]\n",
    "        \n",
    "        javitas_merteke=min([H.get_edge_data(*e)['gap'] for e in L_edges])\n",
    "        \n",
    "\n",
    "        d_seged['javitout']=L_edges\n",
    "        d_seged['javitasi_mertek']=javitas_merteke\n",
    "        d_seged['code_index']=2\n",
    "        d_movie[szamlalo]=d_seged\n",
    "        szamlalo+=1\n",
    "        #Javitas\n",
    "        for e in L_edges:            \n",
    "            f_akt[H.get_edge_data(*e)['original']]+=H.get_edge_data(*e)['elore']*javitas_merteke\n",
    "    else:\n",
    "        X=[u for u in H.nodes() if volt[u]]\n",
    "        \n",
    "       \n",
    "        d_seged['vagas']=X\n",
    "        d_seged['code_index']=3\n",
    "        d_movie[szamlalo]=d_seged\n",
    "        szamlalo+=1\n",
    "        \n",
    "        \n",
    "        d_seged=deepcopy(d_seged)\n",
    "        d_seged={}\n",
    "        d_seged[\"folyam_ertek\"] = folyam_ertek(f_akt)\n",
    "        d_seged['graph']=(G,pos_G)\n",
    "        d_seged['vagas']=X\n",
    "        d_seged['code_index']=4\n",
    "        d_seged[\"akt_folyam\"] = deepcopy(f_akt)\n",
    "        d_movie[szamlalo]=d_seged\n",
    "        szamlalo+=1\n",
    "        d_seged=deepcopy(d_seged)\n",
    "        d_seged['cut_value']=vagas_ertek(X)\n",
    "        d_seged['leaving_edges']=[e for e in G.edges if (e[0] in X) and (e[1] not in X)]\n",
    "        d_movie[szamlalo]=d_seged\n",
    "        szamlalo+=1\n",
    "        \n"
   ]
  },
  {
   "cell_type": "code",
   "execution_count": 33,
   "metadata": {},
   "outputs": [],
   "source": [
    "def plot_all(index):\n",
    "    fig,ax = plt.subplots(2,2,figsize=(21,14))\n",
    "    plt.subplots_adjust(wspace=0.05)\n",
    "    \n",
    "    G,pos_G = d_movie[index][\"graph\"]\n",
    "    code_index = d_movie[index][\"code_index\"]    \n",
    "    \n",
    "\n",
    "\n",
    "    ax[0,0].set_axis_off()\n",
    "    ax[1,0].set_axis_off()\n",
    "    ax[0,1].set_axis_off()\n",
    "    ax[1,1].set_axis_off()\n",
    "    \n",
    "    # graf\n",
    "    nx.draw_networkx_edges(G,pos=pos_G,ax=ax[0,0])\n",
    "    nx.draw_networkx_labels(G,pos=pos_G,ax=ax[0,0])\n",
    "    nx.draw_networkx_edge_labels(G,pos=pos_G,\n",
    "                                 edge_labels={e:(d_movie[index][\"akt_folyam\"][e],\n",
    "                                                 G.get_edge_data(*e)['cap']) for e in G.edges()},\n",
    "                                 label_pos=0.7,\n",
    "                                 font_size=14,\n",
    "                                 ax=ax[0,0])\n",
    "    nx.draw_networkx_nodes(G,pos=pos_G,node_size=400,node_color=\"red\",ax=ax[0,0])\n",
    "    \n",
    "    \n",
    "    # jobb felso, algoritmus\n",
    "    \n",
    "    for i,line in enumerate(algoritmus):\n",
    "        tab_offset=0.2\n",
    "        dy=0.1\n",
    "        starting_height=1\n",
    "        if i!=code_index:\n",
    "            if line[0]==\"\\t\":\n",
    "                ax[0,1].annotate(line[1:],(0+tab_offset,starting_height-dy*i),fontsize=17)\n",
    "            else:\n",
    "                ax[0,1].annotate(line,(0,starting_height-dy*i),fontsize=17)\n",
    "        else:\n",
    "            if line[0]==\"\\t\":\n",
    "                ax[0,1].annotate(line[1:],(0+tab_offset,starting_height-dy*i),fontsize=17,weight=\"bold\")\n",
    "            else:\n",
    "                ax[0,1].annotate(line,(0,starting_height-dy*i),fontsize=17,weight=\"bold\")\n",
    "    ax[0,1].set_ylim(0,1.2)\n",
    "    \n",
    "    if \"folyam_ertek\" in d_movie[index]:\n",
    "        ax[0,1].annotate(\"Aktuális folyamérték: \"+str(d_movie[index][\"folyam_ertek\"]), \n",
    "            (0,starting_height-7*dy),fontsize=17)\n",
    "    \n",
    "    # segedgraph\n",
    "        # bal also\n",
    "    if \"segedgraph\" in d_movie[index]:\n",
    "        H,pos_H = d_movie[index][\"segedgraph\"]\n",
    "\n",
    "        \n",
    "        nx.draw_networkx_edges(H, pos=pos_H, \n",
    "                           connectionstyle=\"arc3,rad=0.1\",\n",
    "                           edge_color=[H.get_edge_data(*e)['color'] for e in H.edges()],\n",
    "                           edge_labels={e:H.get_edge_data(*e)['gap'] for e in H.edges()},\n",
    "                           label_pos=0.7,\n",
    "                           font_size=14,\n",
    "                           ax=ax[1,0])\n",
    "        nx.draw_networkx_labels(H,pos=pos_H,ax=ax[1,0])\n",
    "        nx.draw_networkx_nodes(G,pos=pos_G,node_size=400,node_color=\"red\",ax=ax[1,0])\n",
    "    #     nx.draw_networkx_edge_labels(H,pos=pos_G,\n",
    "    #                                   edge_labels={e:H.get_edge_data(*e)['gap'] for e in H.edges()},\n",
    "    #                                   connectionstyle=\"arc3,rad=0.1\",\n",
    "    #                                   label_pos=0.7)\n",
    "\n",
    "    if \"javitasi_mertek\" in d_movie[index]:\n",
    "        ax[1,1].annotate(\"Javitás mértéke: \"+str(d_movie[index][\"javitasi_mertek\"]) + \".\",\n",
    "            (0,starting_height-dy),fontsize=17)\n",
    "        ax[1,1].annotate(\"Javitó út: \"+ \",\".join([str(t) for t in d_movie[index][\"javitout\"]]), \n",
    "            (0,starting_height-2*dy),fontsize=17)\n",
    "        ax[1,1].set_ylim(0,1.2)\n",
    "\n",
    "\n",
    "    #     print(javitas_merteke,':',L)\n",
    "    \n",
    "    # 2-es segedgraf\n",
    "    \n",
    "    # javitout\n",
    "    # javitasi_mertek\n",
    "    # code_index\n",
    "        L = list(set([n for t in d_movie[index][\"javitout\"] for n in t]))\n",
    "        L_edges = d_movie[index][\"javitout\"]\n",
    "    \n",
    "        nx.draw_networkx_edges(G,pos=pos_G,ax=ax[0,0])\n",
    "        nx.draw_networkx_labels(G,pos=pos_G,ax=ax[0,0])\n",
    "        nx.draw_networkx_edge_labels(\n",
    "            G,\n",
    "            pos=pos_G,\n",
    "            edge_labels={e:(d_movie[index][\"akt_folyam\"][e],G.get_edge_data(*e)['cap']) for e in G.edges()},\n",
    "            label_pos=0.7,font_size=14,ax=ax[0,0])\n",
    "        nx.draw_networkx_nodes(G,pos=pos_G,node_size=400,node_color=\"red\",ax=ax[0,0])\n",
    "    #         fig=plt.figure()\n",
    "        nx.draw_networkx_edges(H, pos=pos_G, \n",
    "                           connectionstyle=\"arc3,rad=0.1\",\n",
    "                           edge_color=[H.get_edge_data(*e)['color'] for e in H.edges()],\n",
    "                           edge_labels={e:H.get_edge_data(*e)['gap'] for e in H.edges()},\n",
    "                           label_pos=0.7,ax=ax[1,0])\n",
    "        nx.draw_networkx_labels(H,pos=pos_G,ax=ax[1,0])\n",
    "        nx.draw_networkx_nodes(G,pos=pos_G,\n",
    "                               nodelist=L,\n",
    "                               node_size=400,node_color=\"lightgreen\",ax=ax[1,0])\n",
    "        nx.draw_networkx_nodes(G,pos=pos_G,\n",
    "                               nodelist=[u for u in G.nodes() if u not in L],\n",
    "                               node_size=400,node_color=\"red\",ax=ax[1,0])\n",
    "        nx.draw_networkx_edges(H, pos=pos_G, \n",
    "                           connectionstyle=\"arc3,rad=0.1\",\n",
    "                           edgelist=L_edges,\n",
    "                           edge_color=[H.get_edge_data(*e)['color'] for e in L_edges],\n",
    "                           edge_labels={e:H.get_edge_data(*e)['gap'] for e in L_edges},\n",
    "                           width=5,\n",
    "                           label_pos=0.7,ax=ax[1,0])\n",
    "        nx.draw_networkx_edge_labels(H,pos=pos_G, edgelist=L_edges,\n",
    "                                  edge_labels={e:H.get_edge_data(*e)['gap'] for e in L_edges},\n",
    "                                  connectionstyle=\"arc3,rad=0.1\",\n",
    "                                  font_size=14,\n",
    "                                  label_pos=0.7,ax=ax[1,0])\n",
    "\n",
    "    \n",
    "    if \"vagas\" in d_movie[index]:\n",
    "        # 3-as tipusu segedgraf, utolso fazis\n",
    "\n",
    "        # vagas\n",
    "        # code_index\n",
    "\n",
    "        nx.draw_networkx_edges(G,pos=pos_G,ax=ax[0,0])\n",
    "        nx.draw_networkx_labels(G,pos=pos_G,ax=ax[0,0])\n",
    "        nx.draw_networkx_edge_labels(G,pos=pos_G,\n",
    "                                     edge_labels={e:(d_movie[index][\"akt_folyam\"][e],\n",
    "                                                     G.get_edge_data(*e)['cap']) for e in G.edges()},\n",
    "                                     label_pos=0.7,font_size=14,ax=ax[0,0])\n",
    "        \n",
    "        if \"segedgraph\" not in d_movie[index]:\n",
    "            X = d_movie[index][\"vagas\"]\n",
    "            nx.draw_networkx_nodes(G,pos=pos_G,node_size=400,nodelist=X,node_color=\"lightblue\",ax=ax[0,0])\n",
    "            nx.draw_networkx_nodes(G,pos=pos_G,node_size=400,nodelist=[u for u in G.nodes() if u not in X],node_color=\"red\",ax=ax[0,0])\n",
    "        else:\n",
    "            nx.draw_networkx_nodes(G,pos=pos_G,node_size=400,node_color=\"red\",ax=ax[0,0])\n",
    "\n",
    "            nx.draw_networkx_edges(H, pos=pos_G, \n",
    "                               connectionstyle=\"arc3,rad=0.1\",\n",
    "                               edge_color=[H.get_edge_data(*e)['color'] for e in H.edges()],\n",
    "                               edge_labels={e:H.get_edge_data(*e)['gap'] for e in H.edges()},\n",
    "                               label_pos=0.7,ax=ax[1,0])\n",
    "\n",
    "            nx.draw_networkx_labels(H,pos=pos_G,ax=ax[1,0])\n",
    "            X = d_movie[index][\"vagas\"]\n",
    "            nx.draw_networkx_nodes(G,pos=pos_G,node_size=400,nodelist=X,node_color=\"lightblue\",ax=ax[1,0])\n",
    "            nx.draw_networkx_nodes(G,pos=pos_G,node_size=400,nodelist=[u for u in G.nodes() if u not in X],node_color=\"red\",ax=ax[1,0])\n",
    "\n",
    "#         print('Talalt vagas: ',X)\n",
    "#         print('Talalt vagas erteke:',vagas_ertek(X))\n",
    "    \n",
    "    # cut_value\n",
    "    if \"leaving_edges\" in d_movie[index]:\n",
    "        nx.draw_networkx_edges(G,pos=pos_G,edgelist=d_movie[index][\"leaving_edges\"],width=5,ax=ax[0,0])\n",
    "        X = d_movie[index][\"vagas\"]\n",
    "        nx.draw_networkx_nodes(G,pos=pos_G,node_size=400,nodelist=X,node_color=\"lightblue\",ax=ax[0,0])\n",
    "        nx.draw_networkx_nodes(G,pos=pos_G,node_size=400,nodelist=[u for u in G.nodes() if u not in X],node_color=\"red\",ax=ax[0,0])\n",
    "        \n",
    "        ax[0,1].annotate(\"Vágás értéke: \"+str(d_movie[index][\"cut_value\"]), \n",
    "            (0,starting_height-8*dy),fontsize=17)\n",
    "    \n",
    "    # leaving_edges - megvastagitani az grafban az utolso abranremmi\n",
    "    \n",
    "    # minden informacio egy abran, az eredeti graf egy masik rajzolasa\n",
    "    \n",
    "    return fig"
   ]
  },
  {
   "cell_type": "code",
   "execution_count": 20,
   "metadata": {},
   "outputs": [
    {
     "data": {
      "application/vnd.jupyter.widget-view+json": {
       "model_id": "00c36e6308b34000b4c0451e91728554",
       "version_major": 2,
       "version_minor": 0
      },
      "text/plain": [
       "interactive(children=(IntSlider(value=0, description='index', max=16), Output()), _dom_classes=('widget-intera…"
      ]
     },
     "metadata": {},
     "output_type": "display_data"
    }
   ],
   "source": [
    "interactive(plot_all,index=IntSlider(0,0,len(d_movie.keys())-1))"
   ]
  },
  {
   "cell_type": "code",
   "execution_count": 43,
   "metadata": {},
   "outputs": [],
   "source": [
    "def create_movie_pdf(handler):\n",
    "    if 'figs' in os.listdir('.'):\n",
    "        rmtree('figs')\n",
    "    os.mkdir('figs')\n",
    "    for kepsorszam in d_movie:\n",
    "        fig=plot_all(kepsorszam)\n",
    "        fig.savefig('figs/f_'+str(kepsorszam).zfill(3)+'.pdf',density=300)\n",
    "        plt.close()\n",
    "\n",
    "    os.system('qpdf --empty --pages figs/f*.pdf -- f_movie.pdf')\n",
    "\n",
    "    local_file = FileLink('./f_movie.pdf', result_html_prefix=\"Összefűzött képek egy PDF-ben: \")\n",
    "    display(local_file)"
   ]
  },
  {
   "cell_type": "code",
   "execution_count": 44,
   "metadata": {},
   "outputs": [
    {
     "data": {
      "application/vnd.jupyter.widget-view+json": {
       "model_id": "11c8dff7ff9b47fa8ae6db35c9587de9",
       "version_major": 2,
       "version_minor": 0
      },
      "text/plain": [
       "Button(description='Fűzd össze!', style=ButtonStyle())"
      ]
     },
     "metadata": {},
     "output_type": "display_data"
    },
    {
     "data": {
      "text/html": [
       "Összefűzött képek egy PDF-ben: <a href='./movie.pdf' target='_blank'>./movie.pdf</a><br>"
      ],
      "text/plain": [
       "/home/bokanyie/teaching/bme_bsz2_vizualizaciok/movie.pdf"
      ]
     },
     "metadata": {},
     "output_type": "display_data"
    }
   ],
   "source": [
    "b = Button(description = \"Fűzd össze!\")\n",
    "b.on_click(create_movie_pdf)\n",
    "b"
   ]
  }
 ],
 "metadata": {
  "kernelspec": {
   "display_name": "Python 3",
   "language": "python",
   "name": "python3"
  },
  "language_info": {
   "codemirror_mode": {
    "name": "ipython",
    "version": 3
   },
   "file_extension": ".py",
   "mimetype": "text/x-python",
   "name": "python",
   "nbconvert_exporter": "python",
   "pygments_lexer": "ipython3",
   "version": "3.7.3"
  }
 },
 "nbformat": 4,
 "nbformat_minor": 4
}
